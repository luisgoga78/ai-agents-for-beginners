{
 "cells": [
  {
   "cell_type": "markdown",
   "metadata": {},
   "source": [
    "# AutoGen Basic Sample \n",
    "\n",
    "In this code sample, you will use the [AutoGen](https://aka.ms/ai-agents/autogen) AI Framework to create a basic agent. \n",
    "\n",
    "The goal of this sample is to show you the steps that we will later use in the addtional code samples when implementing the different agentic patterns. "
   ]
  },
  {
   "cell_type": "markdown",
   "metadata": {},
   "source": [
    "## Import the Needed Python Packages "
   ]
  },
  {
   "cell_type": "code",
   "execution_count": null,
   "metadata": {},
   "outputs": [],
   "source": [
    "import os\n",
    "from dotenv import load_dotenv\n",
    "\n",
    "from autogen_agentchat.agents import AssistantAgent\n",
    "from autogen_core.models import UserMessage\n",
    "from autogen_ext.models.azure import AzureAIChatCompletionClient\n",
    "from azure.core.credentials import AzureKeyCredential\n",
    "from autogen_core import CancellationToken\n",
    "\n",
    "from autogen_agentchat.messages import TextMessage\n",
    "from autogen_agentchat.ui import Console\n"
   ]
  },
  {
   "cell_type": "markdown",
   "metadata": {},
   "source": [
    "## Create the Client \n",
    "\n",
    "In this sample, we will use [GitHub Models](https://aka.ms/ai-agents-beginners/github-models) for access to the LLM. \n",
    "\n",
    "The `model` is defined as `gpt-4o-mini`. Try changing the model to another model available on the GitHub Models marketplace to see the different results. \n",
    "\n",
    "As a quick test, we will just run a simple prompt - `What is the capital of France`. "
   ]
  },
  {
   "cell_type": "code",
   "execution_count": 3,
   "metadata": {},
   "outputs": [],
   "source": [
    "load_dotenv()\n",
    "client = AzureAIChatCompletionClient(\n",
    "    model=\"gpt-4o-mini\",\n",
    "    endpoint=\"https://models.inference.ai.azure.com\",\n",
    "    # To authenticate with the model you will need to generate a personal access token (PAT) in your GitHub settings.\n",
    "    # Create your PAT token by following instructions here: https://docs.github.com/en/authentication/keeping-your-account-and-data-secure/managing-your-personal-access-tokens\n",
    "    credential=AzureKeyCredential(os.getenv(\"GITHUB_TOKEN\")),\n",
    "    model_info={\n",
    "        \"json_output\": True,\n",
    "        \"function_calling\": True,\n",
    "        \"vision\": True,\n",
    "        \"family\": \"unknown\",\n",
    "    },\n",
    ")\n",
    "\n",
    "result = await client.create([UserMessage(content=\"What is the capital of France?\", source=\"user\")])\n",
    "print(result)"
   ]
  },
  {
   "cell_type": "markdown",
   "metadata": {},
   "source": [
    "## Defining the Agent \n",
    "\n",
    "Now that we have set up the `client` and confirmed that it is working, let us create an `AssistantAgent`. Each agent can be assigned a: \n",
    "**name** - A short hand name that will be useful in referencing it in multi-agent flows. \n",
    "**model_client** - The client that you created in the earlier step. \n",
    "**tools** - Available tools that the Agent can use to complete a task.\n",
    "**system_message** - The metaprompt that defines the task, behavior and tone of the LLM. \n",
    "\n",
    "You can change the system message to see how the LLM responds. We will cover `tools` in Lesson #4. \n"
   ]
  },
  {
   "cell_type": "code",
   "execution_count": 4,
   "metadata": {},
   "outputs": [],
   "source": [
    "agent = AssistantAgent(\n",
    "    name=\"assistant\",\n",
    "    model_client=client,\n",
    "    tools=[],\n",
    "    system_message=\"You are a travel agent that plans great vacations\",\n",
    ")"
   ]
  },
  {
   "cell_type": "markdown",
   "metadata": {},
   "source": [
    "## Run the Agent \n",
    "\n",
    "The below function will run the agent. We use the the `on_message` method to update the Agent's state with the new message. \n",
    "\n",
    "In this case, we update the state with a new message from the user which is `\"Plan me a great sunny vacation\"`.\n",
    "\n",
    "You can change the message content to see how the LLM responds differently. "
   ]
  },
  {
   "cell_type": "code",
   "execution_count": 15,
   "metadata": {},
   "outputs": [
    {
     "name": "stdout",
     "output_type": "stream",
     "text": [
      "[]\n",
      "source='assistant' models_usage=RequestUsage(prompt_tokens=26, completion_tokens=553) content='Absolutely! For a sunny vacation, I recommend considering the following destinations and activities to ensure you have a fantastic trip, filled with sunshine and relaxation.\\n\\n### Destination: Maui, Hawaii\\n\\n**Duration:** 7 days\\n\\n---\\n\\n**Day 1: Arrival in Maui**\\n- Check into a beachfront resort in Wailea or Kaanapali.\\n- Spend the afternoon relaxing by the pool or at the beach.\\n- Enjoy a welcome dinner at a local restaurant with ocean views.\\n\\n---\\n\\n**Day 2: Explore the Road to Hana**\\n- Rent a car and embark on the famous Road to Hana trip.\\n- Stops include Twin Falls, the black sand beach at Waianapanapa State Park, and the Hana Lava Tube.\\n- Pack a picnic lunch to enjoy along the way.\\n- Return to your hotel for a sunset dinner.\\n\\n---\\n\\n**Day 3: Snorkeling at Molokini Crater**\\n- Take a half-day snorkeling tour to Molokini Crater, known for its vibrant marine life and clear waters.\\n- Enjoy lunch on the boat or at a nearby beach.\\n- Relax in the afternoon or try paddleboarding.\\n\\n---\\n\\n**Day 4: Haleakalā National Park**\\n- Begin your day early to view the sunrise at Haleakalā National Park.\\n- Take a hike along the Sliding Sands Trail for breathtaking views.\\n- Return to your hotel and relax at the beach or pool.\\n\\n---\\n\\n**Day 5: Beach Day in Kaanapali**\\n- Spend the day at Kaanapali Beach.\\n- Try out water sports like jet skiing, parasailing, or simply relax on the beach with a book.\\n- Have dinner at the famous Hula Grill or Duke’s Beach House.\\n\\n---\\n\\n**Day 6: Farm and Ocean Tour**\\n- Visit a local farm for a tour and tasting experience (such as a coffee or pineapple farm).\\n- Spend the afternoon visiting local artisan shops and markets, or explore the town of Lahaina.\\n- Enjoy a luau in the evening for an authentic Hawaiian dining and entertainment experience.\\n\\n---\\n\\n**Day 7: Departure**\\n- Enjoy a leisurely breakfast and a final walk on the beach.\\n- Purchase some souvenirs from local shops.\\n- Head to the airport for departure, taking with you memories of a sunny adventure.\\n\\n### Travel Tips:\\n- **Best Time to Visit:** April to June or September to November for ideal weather and fewer crowds.\\n- **Packing:** Don’t forget swimwear, sunscreen, light clothing, and comfortable footwear for hiking.\\n- **Transportation:** Consider renting a car for easy access to all the beautiful sites around the island.\\n\\nThis itinerary combines relaxation, adventure, and cultural experiences, perfect for soaking up the sun! Let me know if you’d like modifications or different destination ideas!' type='TextMessage'\n"
     ]
    }
   ],
   "source": [
    "from IPython.display import display, HTML\n",
    "\n",
    "\n",
    "async def assistant_run():\n",
    "    # Define the query\n",
    "    user_query = \"Plan me a great sunny vacation\"\n",
    "\n",
    "    # Start building HTML output\n",
    "    html_output = \"<div style='margin-bottom:10px'>\"\n",
    "    html_output += \"<div style='font-weight:bold'>User:</div>\"\n",
    "    html_output += f\"<div style='margin-left:20px'>{user_query}</div>\"\n",
    "    html_output += \"</div>\"\n",
    "\n",
    "    # Execute the agent response\n",
    "    response = await agent.on_messages(\n",
    "        [TextMessage(content=user_query, source=\"user\")],\n",
    "        cancellation_token=CancellationToken(),\n",
    "    )\n",
    "\n",
    "    # Add agent response to HTML\n",
    "    html_output += \"<div style='margin-bottom:20px'>\"\n",
    "    html_output += \"<div style='font-weight:bold'>Assistant:</div>\"\n",
    "    html_output += f\"<div style='margin-left:20px; white-space:pre-wrap'>{response.chat_message.content}</div>\"\n",
    "    html_output += \"</div>\"\n",
    "\n",
    "    # Display formatted HTML\n",
    "    display(HTML(html_output))\n",
    "\n",
    "# Run the function\n",
    "await assistant_run()"
   ]
  }
 ],
 "metadata": {
  "kernelspec": {
   "display_name": ".venv",
   "language": "python",
   "name": "python3"
  },
  "language_info": {
   "codemirror_mode": {
    "name": "ipython",
    "version": 3
   },
   "file_extension": ".py",
   "mimetype": "text/x-python",
   "name": "python",
   "nbconvert_exporter": "python",
   "pygments_lexer": "ipython3",
   "version": "3.13.2"
  }
 },
 "nbformat": 4,
 "nbformat_minor": 2
}
